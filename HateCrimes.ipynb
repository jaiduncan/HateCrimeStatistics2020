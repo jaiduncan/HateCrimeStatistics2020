{
 "cells": [
  {
   "cell_type": "code",
   "execution_count": 8,
   "metadata": {},
   "outputs": [],
   "source": [
    "import pandas as pd\n",
    "import matplotlib.pyplot as plt"
   ]
  },
  {
   "cell_type": "markdown",
   "metadata": {},
   "source": [
    "Loading the CSV into the dataframe"
   ]
  },
  {
   "cell_type": "code",
   "execution_count": 9,
   "metadata": {},
   "outputs": [
    {
     "name": "stdout",
     "output_type": "stream",
     "text": [
      "        INCIDENT_ID  DATA_YEAR        ORI PUB_AGENCY_NAME PUB_AGENCY_UNIT  \\\n",
      "0              3015       1991  AR0040200          Rogers             NaN   \n",
      "1              3016       1991  AR0290100            Hope             NaN   \n",
      "2                43       1991  AR0350100      Pine Bluff             NaN   \n",
      "3                44       1991  AR0350100      Pine Bluff             NaN   \n",
      "4              3017       1991  AR0350100      Pine Bluff             NaN   \n",
      "...             ...        ...        ...             ...             ...   \n",
      "219572      1318026       2020  WY0170100        Sheridan             NaN   \n",
      "219573      1142103       2020  WY0210100        Evanston             NaN   \n",
      "219574      1318018       2020  WY0210100        Evanston             NaN   \n",
      "219575      1318022       2020  WY0210100        Evanston             NaN   \n",
      "219576      1318023       2020  WY0210100        Evanston             NaN   \n",
      "\n",
      "       AGENCY_TYPE_NAME STATE_ABBR STATE_NAME       DIVISION_NAME REGION_NAME  \\\n",
      "0                  City         AR   Arkansas  West South Central       South   \n",
      "1                  City         AR   Arkansas  West South Central       South   \n",
      "2                  City         AR   Arkansas  West South Central       South   \n",
      "3                  City         AR   Arkansas  West South Central       South   \n",
      "4                  City         AR   Arkansas  West South Central       South   \n",
      "...                 ...        ...        ...                 ...         ...   \n",
      "219572             City         WY    Wyoming            Mountain        West   \n",
      "219573             City         WY    Wyoming            Mountain        West   \n",
      "219574             City         WY    Wyoming            Mountain        West   \n",
      "219575             City         WY    Wyoming            Mountain        West   \n",
      "219576             City         WY    Wyoming            Mountain        West   \n",
      "\n",
      "        ...              OFFENDER_RACE      OFFENDER_ETHNICITY VICTIM_COUNT  \\\n",
      "0       ...                      White                     NaN            1   \n",
      "1       ...  Black or African American                     NaN            1   \n",
      "2       ...  Black or African American                     NaN            1   \n",
      "3       ...  Black or African American                     NaN            2   \n",
      "4       ...  Black or African American                     NaN            1   \n",
      "...     ...                        ...                     ...          ...   \n",
      "219572  ...                      White  Not Hispanic or Latino            2   \n",
      "219573  ...                    Unknown                 Unknown            1   \n",
      "219574  ...  Black or African American  Not Hispanic or Latino            1   \n",
      "219575  ...                      White  Not Hispanic or Latino            1   \n",
      "219576  ...                      White  Not Hispanic or Latino            1   \n",
      "\n",
      "                                             OFFENSE_NAME  \\\n",
      "0                                            Intimidation   \n",
      "1                                          Simple Assault   \n",
      "2                                      Aggravated Assault   \n",
      "3       Aggravated Assault;Destruction/Damage/Vandalis...   \n",
      "4                                      Aggravated Assault   \n",
      "...                                                   ...   \n",
      "219572                                       Intimidation   \n",
      "219573           Destruction/Damage/Vandalism of Property   \n",
      "219574                                 Aggravated Assault   \n",
      "219575                                     Simple Assault   \n",
      "219576                                Theft From Building   \n",
      "\n",
      "        TOTAL_INDIVIDUAL_VICTIMS                       LOCATION_NAME  \\\n",
      "0                            1.0  Highway/Road/Alley/Street/Sidewalk   \n",
      "1                            1.0  Highway/Road/Alley/Street/Sidewalk   \n",
      "2                            1.0                      Residence/Home   \n",
      "3                            1.0  Highway/Road/Alley/Street/Sidewalk   \n",
      "4                            1.0                 Service/Gas Station   \n",
      "...                          ...                                 ...   \n",
      "219572                       2.0                     Park/Playground   \n",
      "219573                       0.0                     Park/Playground   \n",
      "219574                       1.0                      Residence/Home   \n",
      "219575                       1.0                      Residence/Home   \n",
      "219576                       1.0                      Residence/Home   \n",
      "\n",
      "                                                BIAS_DESC  VICTIM_TYPES  \\\n",
      "0                          Anti-Black or African American    Individual   \n",
      "1                                              Anti-White    Individual   \n",
      "2                          Anti-Black or African American    Individual   \n",
      "3                                              Anti-White    Individual   \n",
      "4                                              Anti-White    Individual   \n",
      "...                                                   ...           ...   \n",
      "219572  Anti-Lesbian, Gay, Bisexual, or Transgender (M...    Individual   \n",
      "219573                                         Anti-White    Government   \n",
      "219574                                         Anti-White    Individual   \n",
      "219575                                        Anti-Female    Individual   \n",
      "219576                         Anti-Gender Non-Conforming    Individual   \n",
      "\n",
      "       MULTIPLE_OFFENSE MULTIPLE_BIAS  \n",
      "0                     S             S  \n",
      "1                     S             S  \n",
      "2                     S             S  \n",
      "3                     M             S  \n",
      "4                     S             S  \n",
      "...                 ...           ...  \n",
      "219572                S             S  \n",
      "219573                S             S  \n",
      "219574                S             S  \n",
      "219575                S             S  \n",
      "219576                S             S  \n",
      "\n",
      "[219577 rows x 28 columns]\n"
     ]
    },
    {
     "name": "stderr",
     "output_type": "stream",
     "text": [
      "C:\\Users\\jdunc\\AppData\\Local\\Temp\\ipykernel_47528\\3101461282.py:1: DtypeWarning: Columns (19) have mixed types. Specify dtype option on import or set low_memory=False.\n",
      "  df = pd.read_csv('US_Hate_Crimes.csv')\n"
     ]
    }
   ],
   "source": [
    "df = pd.read_csv('US_Hate_Crimes.csv')\n",
    "print(df)"
   ]
  },
  {
   "cell_type": "code",
   "execution_count": 10,
   "metadata": {},
   "outputs": [
    {
     "data": {
      "text/plain": [
       "Index(['INCIDENT_ID', 'DATA_YEAR', 'ORI', 'PUB_AGENCY_NAME', 'PUB_AGENCY_UNIT',\n",
       "       'AGENCY_TYPE_NAME', 'STATE_ABBR', 'STATE_NAME', 'DIVISION_NAME',\n",
       "       'REGION_NAME', 'POPULATION_GROUP_CODE', 'POPULATION_GROUP_DESC',\n",
       "       'INCIDENT_DATE', 'ADULT_VICTIM_COUNT', 'JUVENILE_VICTIM_COUNT',\n",
       "       'TOTAL_OFFENDER_COUNT', 'ADULT_OFFENDER_COUNT',\n",
       "       'JUVENILE_OFFENDER_COUNT', 'OFFENDER_RACE', 'OFFENDER_ETHNICITY',\n",
       "       'VICTIM_COUNT', 'OFFENSE_NAME', 'TOTAL_INDIVIDUAL_VICTIMS',\n",
       "       'LOCATION_NAME', 'BIAS_DESC', 'VICTIM_TYPES', 'MULTIPLE_OFFENSE',\n",
       "       'MULTIPLE_BIAS'],\n",
       "      dtype='object')"
      ]
     },
     "execution_count": 10,
     "metadata": {},
     "output_type": "execute_result"
    }
   ],
   "source": [
    "df.columns"
   ]
  },
  {
   "cell_type": "markdown",
   "metadata": {},
   "source": [
    "I don't need all of these columns so here I'll drop them"
   ]
  },
  {
   "cell_type": "code",
   "execution_count": 11,
   "metadata": {},
   "outputs": [
    {
     "data": {
      "text/html": [
       "<div>\n",
       "<style scoped>\n",
       "    .dataframe tbody tr th:only-of-type {\n",
       "        vertical-align: middle;\n",
       "    }\n",
       "\n",
       "    .dataframe tbody tr th {\n",
       "        vertical-align: top;\n",
       "    }\n",
       "\n",
       "    .dataframe thead th {\n",
       "        text-align: right;\n",
       "    }\n",
       "</style>\n",
       "<table border=\"1\" class=\"dataframe\">\n",
       "  <thead>\n",
       "    <tr style=\"text-align: right;\">\n",
       "      <th></th>\n",
       "      <th>DATA_YEAR</th>\n",
       "      <th>STATE_ABBR</th>\n",
       "      <th>STATE_NAME</th>\n",
       "      <th>INCIDENT_DATE</th>\n",
       "      <th>OFFENDER_RACE</th>\n",
       "      <th>OFFENSE_NAME</th>\n",
       "      <th>TOTAL_INDIVIDUAL_VICTIMS</th>\n",
       "      <th>LOCATION_NAME</th>\n",
       "      <th>BIAS_DESC</th>\n",
       "      <th>VICTIM_TYPES</th>\n",
       "    </tr>\n",
       "  </thead>\n",
       "  <tbody>\n",
       "    <tr>\n",
       "      <th>0</th>\n",
       "      <td>1991</td>\n",
       "      <td>AR</td>\n",
       "      <td>Arkansas</td>\n",
       "      <td>31-AUG-91</td>\n",
       "      <td>White</td>\n",
       "      <td>Intimidation</td>\n",
       "      <td>1.0</td>\n",
       "      <td>Highway/Road/Alley/Street/Sidewalk</td>\n",
       "      <td>Anti-Black or African American</td>\n",
       "      <td>Individual</td>\n",
       "    </tr>\n",
       "    <tr>\n",
       "      <th>1</th>\n",
       "      <td>1991</td>\n",
       "      <td>AR</td>\n",
       "      <td>Arkansas</td>\n",
       "      <td>19-SEP-91</td>\n",
       "      <td>Black or African American</td>\n",
       "      <td>Simple Assault</td>\n",
       "      <td>1.0</td>\n",
       "      <td>Highway/Road/Alley/Street/Sidewalk</td>\n",
       "      <td>Anti-White</td>\n",
       "      <td>Individual</td>\n",
       "    </tr>\n",
       "    <tr>\n",
       "      <th>2</th>\n",
       "      <td>1991</td>\n",
       "      <td>AR</td>\n",
       "      <td>Arkansas</td>\n",
       "      <td>04-JUL-91</td>\n",
       "      <td>Black or African American</td>\n",
       "      <td>Aggravated Assault</td>\n",
       "      <td>1.0</td>\n",
       "      <td>Residence/Home</td>\n",
       "      <td>Anti-Black or African American</td>\n",
       "      <td>Individual</td>\n",
       "    </tr>\n",
       "    <tr>\n",
       "      <th>3</th>\n",
       "      <td>1991</td>\n",
       "      <td>AR</td>\n",
       "      <td>Arkansas</td>\n",
       "      <td>24-DEC-91</td>\n",
       "      <td>Black or African American</td>\n",
       "      <td>Aggravated Assault;Destruction/Damage/Vandalis...</td>\n",
       "      <td>1.0</td>\n",
       "      <td>Highway/Road/Alley/Street/Sidewalk</td>\n",
       "      <td>Anti-White</td>\n",
       "      <td>Individual</td>\n",
       "    </tr>\n",
       "    <tr>\n",
       "      <th>4</th>\n",
       "      <td>1991</td>\n",
       "      <td>AR</td>\n",
       "      <td>Arkansas</td>\n",
       "      <td>23-DEC-91</td>\n",
       "      <td>Black or African American</td>\n",
       "      <td>Aggravated Assault</td>\n",
       "      <td>1.0</td>\n",
       "      <td>Service/Gas Station</td>\n",
       "      <td>Anti-White</td>\n",
       "      <td>Individual</td>\n",
       "    </tr>\n",
       "  </tbody>\n",
       "</table>\n",
       "</div>"
      ],
      "text/plain": [
       "   DATA_YEAR STATE_ABBR STATE_NAME INCIDENT_DATE              OFFENDER_RACE  \\\n",
       "0       1991         AR   Arkansas     31-AUG-91                      White   \n",
       "1       1991         AR   Arkansas     19-SEP-91  Black or African American   \n",
       "2       1991         AR   Arkansas     04-JUL-91  Black or African American   \n",
       "3       1991         AR   Arkansas     24-DEC-91  Black or African American   \n",
       "4       1991         AR   Arkansas     23-DEC-91  Black or African American   \n",
       "\n",
       "                                        OFFENSE_NAME  \\\n",
       "0                                       Intimidation   \n",
       "1                                     Simple Assault   \n",
       "2                                 Aggravated Assault   \n",
       "3  Aggravated Assault;Destruction/Damage/Vandalis...   \n",
       "4                                 Aggravated Assault   \n",
       "\n",
       "   TOTAL_INDIVIDUAL_VICTIMS                       LOCATION_NAME  \\\n",
       "0                       1.0  Highway/Road/Alley/Street/Sidewalk   \n",
       "1                       1.0  Highway/Road/Alley/Street/Sidewalk   \n",
       "2                       1.0                      Residence/Home   \n",
       "3                       1.0  Highway/Road/Alley/Street/Sidewalk   \n",
       "4                       1.0                 Service/Gas Station   \n",
       "\n",
       "                        BIAS_DESC VICTIM_TYPES  \n",
       "0  Anti-Black or African American   Individual  \n",
       "1                      Anti-White   Individual  \n",
       "2  Anti-Black or African American   Individual  \n",
       "3                      Anti-White   Individual  \n",
       "4                      Anti-White   Individual  "
      ]
     },
     "execution_count": 11,
     "metadata": {},
     "output_type": "execute_result"
    }
   ],
   "source": [
    "df.drop(columns=['INCIDENT_ID', 'ORI', 'PUB_AGENCY_NAME', 'PUB_AGENCY_UNIT', 'AGENCY_TYPE_NAME', 'DIVISION_NAME', 'REGION_NAME', 'POPULATION_GROUP_CODE', 'POPULATION_GROUP_DESC', 'ADULT_VICTIM_COUNT', 'JUVENILE_VICTIM_COUNT', 'TOTAL_OFFENDER_COUNT', 'ADULT_OFFENDER_COUNT', 'JUVENILE_OFFENDER_COUNT', 'OFFENDER_ETHNICITY', 'VICTIM_COUNT', 'MULTIPLE_OFFENSE', 'MULTIPLE_BIAS'], inplace=True)\n",
    "df.head()"
   ]
  }
 ],
 "metadata": {
  "kernelspec": {
   "display_name": "Python 3.10.4 64-bit",
   "language": "python",
   "name": "python3"
  },
  "language_info": {
   "codemirror_mode": {
    "name": "ipython",
    "version": 3
   },
   "file_extension": ".py",
   "mimetype": "text/x-python",
   "name": "python",
   "nbconvert_exporter": "python",
   "pygments_lexer": "ipython3",
   "version": "3.10.4"
  },
  "orig_nbformat": 4,
  "vscode": {
   "interpreter": {
    "hash": "d89c619a4c177652041b49cf4a11bd20cd0e872c2939899f5e3653e982c43d41"
   }
  }
 },
 "nbformat": 4,
 "nbformat_minor": 2
}
